{
 "cells": [
  {
   "cell_type": "code",
   "execution_count": null,
   "metadata": {},
   "outputs": [],
   "source": [
    "import os,re\n",
    "import numpy as np\n",
    "import pandas as pd \n",
    "import seaborn as sns\n",
    "import matplotlib.pyplot as plt\n",
    "%matplotlib inline\n",
    "\n",
    "import plotly_express as px\n",
    "import plotly.graph_objs as go\n",
    "from plotly.offline import iplot\n",
    "\n",
    "from sklearn.decomposition import PCA\n",
    "from sklearn.manifold import TSNE\n",
    "\n",
    "palette = {'noncas':'#7E7E7F','cas12':'#BAD3E9','cas9':'#F3C8AB','cas13':'#C1DBB1'}\n",
    "markers = {'noncas':'o','cas12':'X','cas9':'P','cas13':'s'}"
   ]
  },
  {
   "cell_type": "markdown",
   "metadata": {},
   "source": [
    "## PCA & t-SNE"
   ]
  },
  {
   "cell_type": "code",
   "execution_count": null,
   "metadata": {},
   "outputs": [],
   "source": [
    "def pca_n_components(df):\n",
    "    pca = PCA().fit(df)\n",
    "    pcaratio = pca.explained_variance_ratio_\n",
    "    trace = go.Scatter(x=np.arange(len(pcaratio)),y=np.cumsum(pcaratio))\n",
    "    data = [trace]\n",
    "    fig = dict(data=data)\n",
    "    iplot(fig)\n",
    "\n",
    "def tsne_data_process(df, n_pca, labels):\n",
    "    pca = PCA(n_components=n_pca)\n",
    "    dataPCA = pca.fit_transform(df)\n",
    "    X = dataPCA\n",
    "    Xtsne = TSNE(n_components=2).fit_transform(X)\n",
    "    dftsne = pd.DataFrame(Xtsne)\n",
    "    dftsne['cluster'] = labels\n",
    "    dftsne.columns = ['x1','x2','cluster']\n",
    "    return dftsne\n",
    "    \n",
    "def tsne_clst_fig(bef_df, bef_n_pca, bef_labs, aft_df, aft_n_pca, aft_labs, out_tag):\n",
    "    bef_tsne_df = tsne_data_process(bef_df, bef_n_pca, bef_labs)\n",
    "    aft_tsne_df = tsne_data_process(aft_df, aft_n_pca, aft_labs)\n",
    "    fig, ax = plt.subplots(2, 1, figsize=(6,8))\n",
    "    bwidth = 0.5\n",
    "    color = 'black'\n",
    "    sns.set(rc={'axes.facecolor':(0,0,0,0), 'figure.facecolor':(0,0,0,0)})\n",
    "    sns.scatterplot(data=bef_tsne_df,x='x1',y='x2',hue='cluster',style='cluster',legend=False,markers=markers,alpha=0.5,ax=ax[0],size=0.1,palette=palette)\n",
    "    ax[0].set_xlim(-130,130)\n",
    "    ax[0].set_ylim(-130,130)\n",
    "    ax[0].spines['top'].set_color(color)\n",
    "    ax[0].spines['bottom'].set_color(color)\n",
    "    ax[0].spines['left'].set_color(color)\n",
    "    ax[0].spines['right'].set_color(color)\n",
    "    ax[0].spines['top'].set_linewidth(bwidth)\n",
    "    ax[0].spines['bottom'].set_linewidth(bwidth)\n",
    "    ax[0].spines['left'].set_linewidth(bwidth)\n",
    "    ax[0].spines['right'].set_linewidth(bwidth)\n",
    "    ax[0].tick_params(axis='both', colors=(0,0,0,0), grid_alpha=0)\n",
    "    #ax[0].set_title('Before fine-tuning')\n",
    "    ax[0].set_xlabel(None)\n",
    "    ax[0].set_ylabel(None)\n",
    "    sns.scatterplot(data=aft_tsne_df,x='x1',y='x2',hue='cluster',style='cluster',legend=False,markers=markers,alpha=0.5,ax=ax[1],size=0.1,palette=palette)\n",
    "    ax[1].set_xlim(-130,130)\n",
    "    ax[1].set_ylim(-130,130)\n",
    "    ax[1].spines['top'].set_color(color)\n",
    "    ax[1].spines['bottom'].set_color(color)\n",
    "    ax[1].spines['left'].set_color(color)\n",
    "    ax[1].spines['right'].set_color(color)\n",
    "    ax[1].spines['top'].set_linewidth(bwidth)\n",
    "    ax[1].spines['bottom'].set_linewidth(bwidth)\n",
    "    ax[1].spines['left'].set_linewidth(bwidth)\n",
    "    ax[1].spines['right'].set_linewidth(bwidth)\n",
    "    ax[1].tick_params(axis='both', colors=(0,0,0,0), grid_alpha=0)\n",
    "    #ax[1].set_title('After fine-tuning')\n",
    "    ax[1].set_xlabel(None)\n",
    "    ax[1].set_ylabel(None)\n",
    "    fig.savefig(out_tag+'.tsne.pdf',format='pdf')\n",
    "    fig.savefig(out_tag+'.tsne.png',dpi=720,format='png')\n",
    "    return fig\n",
    "\n",
    "def tsne_clst_fig_single(df, n_pca, labs, lim, out_tag):\n",
    "    tsne_df = tsne_data_process(df, n_pca, labs)\n",
    "    fig, ax = plt.subplots(1, 1, figsize=(6,4))\n",
    "    plt.margins(tight=True)\n",
    "    ax.margins(x=-0.45, y=-0.45)\n",
    "    bwidth = 0.5\n",
    "    color = 'black'\n",
    "    sns.set(rc={'axes.facecolor':(0,0,0,0), 'figure.facecolor':(0,0,0,0)})\n",
    "    sns.scatterplot(data=tsne_df,x='x1',y='x2',hue='cluster',style='cluster',legend=False,markers=markers,alpha=0.5,ax=ax,size=0.1,palette=palette)\n",
    "    ax.set_xlim(-lim,lim)\n",
    "    ax.set_ylim(-lim,lim)\n",
    "    ax.spines['top'].set_color(color)\n",
    "    ax.spines['bottom'].set_color(color)\n",
    "    ax.spines['left'].set_color(color)\n",
    "    ax.spines['right'].set_color(color)\n",
    "    ax.spines['top'].set_linewidth(bwidth)\n",
    "    ax.spines['bottom'].set_linewidth(bwidth)\n",
    "    ax.spines['left'].set_linewidth(bwidth)\n",
    "    ax.spines['right'].set_linewidth(bwidth)\n",
    "    ax.tick_params(axis='both', colors=(0,0,0,0), grid_alpha=0)\n",
    "    ax.set_xlabel(None)\n",
    "    ax.set_ylabel(None)\n",
    "    fig.savefig(out_tag+'.tsne.pdf',format='pdf')\n",
    "    fig.savefig(out_tag+'.tsne.png',dpi=720,format='png')\n",
    "    return fig"
   ]
  },
  {
   "cell_type": "code",
   "execution_count": null,
   "metadata": {},
   "outputs": [],
   "source": [
    "before = pd.read_csv('esm2_650M/val.emb.tab',sep='\\t')\n",
    "bef_labs = before.Label\n",
    "bef_df = before.iloc[:,3:]"
   ]
  },
  {
   "cell_type": "code",
   "execution_count": null,
   "metadata": {},
   "outputs": [],
   "source": [
    "after = pd.read_csv('esm2_650M/val.ft_emb.tab',sep='\\t')\n",
    "aft_labs = after.Label\n",
    "aft_df = after.iloc[:,3:]"
   ]
  },
  {
   "cell_type": "code",
   "execution_count": null,
   "metadata": {},
   "outputs": [],
   "source": [
    "pca_n_components(bef_df)\n",
    "pca_n_components(aft_df)"
   ]
  },
  {
   "cell_type": "code",
   "execution_count": null,
   "metadata": {},
   "outputs": [],
   "source": [
    "## proka\n",
    "bef_n_pca = 106\n",
    "aft_n_pca = 45\n",
    "lim = 130\n",
    "\n",
    "## virus\n",
    "#bef_n_pca = 39\n",
    "#aft_n_pca = 3\n",
    "#lim = 80"
   ]
  },
  {
   "cell_type": "code",
   "execution_count": null,
   "metadata": {},
   "outputs": [],
   "source": [
    "fig_org = tsne_clst_fig_single(bef_df, bef_n_pca, bef_labs, lim, out_tag='val_before_ft')\n",
    "fig_ft = tsne_clst_fig_single(aft_df, aft_n_pca, aft_labs, lim, out_tag='val_after_ft')"
   ]
  }
 ],
 "metadata": {
  "language_info": {
   "name": "python"
  }
 },
 "nbformat": 4,
 "nbformat_minor": 2
}
